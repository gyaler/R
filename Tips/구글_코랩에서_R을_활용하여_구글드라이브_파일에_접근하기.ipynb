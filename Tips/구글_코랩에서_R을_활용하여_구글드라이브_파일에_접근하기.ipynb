{
  "nbformat": 4,
  "nbformat_minor": 0,
  "metadata": {
    "colab": {
      "name": "구글 코랩에서 R을 활용하여 구글드라이브 파일에 접근하기.ipynb",
      "provenance": [],
      "collapsed_sections": [],
      "toc_visible": true,
      "authorship_tag": "ABX9TyMXiSlysWucMU893QeyL1Ib",
      "include_colab_link": true
    },
    "kernelspec": {
      "name": "ir",
      "display_name": "R"
    },
    "language_info": {
      "name": "R"
    }
  },
  "cells": [
    {
      "cell_type": "markdown",
      "metadata": {
        "id": "view-in-github",
        "colab_type": "text"
      },
      "source": [
        "<a href=\"https://colab.research.google.com/github/gyaler/R/blob/main/%EA%B5%AC%EA%B8%80_%EC%BD%94%EB%9E%A9%EC%97%90%EC%84%9C_R%EC%9D%84_%ED%99%9C%EC%9A%A9%ED%95%98%EC%97%AC_%EA%B5%AC%EA%B8%80%EB%93%9C%EB%9D%BC%EC%9D%B4%EB%B8%8C_%ED%8C%8C%EC%9D%BC%EC%97%90_%EC%A0%91%EA%B7%BC%ED%95%98%EA%B8%B0.ipynb\" target=\"_parent\"><img src=\"https://colab.research.google.com/assets/colab-badge.svg\" alt=\"Open In Colab\"/></a>"
      ]
    },
    {
      "cell_type": "markdown",
      "source": [
        "## 구글 코랩에서 R을 활용하여 구글드라이브 파일에 접근하기\n",
        "\n",
        "1. 업로드하고자 하는 파일 오른쪽 클릭 - get link 를 활성화한다.\n",
        "2. link를 복사한다.\n",
        "3. \".../d/ \\~\\~\\~ /view?...\" 에서 \\~\\~\\~ 부분을 복사한다.\n",
        "4. system(\"gdown --id \\~\\~\\~\") 를 실행한다.\n",
        "5. 좌측 파일 리스트에 보면, 데이터가 업로드된 것을 확인할 수 있다."
      ],
      "metadata": {
        "id": "xuGoB9-77CMF"
      }
    },
    {
      "cell_type": "code",
      "source": [
        "library(dplyr)\n",
        "data <- read.csv(\"net_data_211221.csv\")\n",
        "data %>% select(NO, cat, B2B) %>% head()"
      ],
      "metadata": {
        "colab": {
          "base_uri": "https://localhost:8080/",
          "height": 540
        },
        "id": "rba7b3Fc6zNs",
        "outputId": "b7c2dabb-4556-4e1f-8248-c23579708134"
      },
      "execution_count": 5,
      "outputs": [
        {
          "output_type": "stream",
          "name": "stderr",
          "text": [
            "\n",
            "Attaching package: ‘dplyr’\n",
            "\n",
            "\n",
            "The following objects are masked from ‘package:stats’:\n",
            "\n",
            "    filter, lag\n",
            "\n",
            "\n",
            "The following objects are masked from ‘package:base’:\n",
            "\n",
            "    intersect, setdiff, setequal, union\n",
            "\n",
            "\n"
          ]
        },
        {
          "output_type": "display_data",
          "data": {
            "text/plain": [
              "  NO cat B2B\n",
              "1 1  0   0  \n",
              "2 2  0   0  \n",
              "3 3  0   1  \n",
              "4 4  0   0  \n",
              "5 5  0   0  \n",
              "6 6  0   0  "
            ],
            "text/latex": "A data.frame: 6 × 3\n\\begin{tabular}{r|lll}\n  & NO & cat & B2B\\\\\n  & <int> & <int> & <int>\\\\\n\\hline\n\t1 & 1 & 0 & 0\\\\\n\t2 & 2 & 0 & 0\\\\\n\t3 & 3 & 0 & 1\\\\\n\t4 & 4 & 0 & 0\\\\\n\t5 & 5 & 0 & 0\\\\\n\t6 & 6 & 0 & 0\\\\\n\\end{tabular}\n",
            "text/markdown": "\nA data.frame: 6 × 3\n\n| <!--/--> | NO &lt;int&gt; | cat &lt;int&gt; | B2B &lt;int&gt; |\n|---|---|---|---|\n| 1 | 1 | 0 | 0 |\n| 2 | 2 | 0 | 0 |\n| 3 | 3 | 0 | 1 |\n| 4 | 4 | 0 | 0 |\n| 5 | 5 | 0 | 0 |\n| 6 | 6 | 0 | 0 |\n\n",
            "text/html": [
              "<table class=\"dataframe\">\n",
              "<caption>A data.frame: 6 × 3</caption>\n",
              "<thead>\n",
              "\t<tr><th></th><th scope=col>NO</th><th scope=col>cat</th><th scope=col>B2B</th></tr>\n",
              "\t<tr><th></th><th scope=col>&lt;int&gt;</th><th scope=col>&lt;int&gt;</th><th scope=col>&lt;int&gt;</th></tr>\n",
              "</thead>\n",
              "<tbody>\n",
              "\t<tr><th scope=row>1</th><td>1</td><td>0</td><td>0</td></tr>\n",
              "\t<tr><th scope=row>2</th><td>2</td><td>0</td><td>0</td></tr>\n",
              "\t<tr><th scope=row>3</th><td>3</td><td>0</td><td>1</td></tr>\n",
              "\t<tr><th scope=row>4</th><td>4</td><td>0</td><td>0</td></tr>\n",
              "\t<tr><th scope=row>5</th><td>5</td><td>0</td><td>0</td></tr>\n",
              "\t<tr><th scope=row>6</th><td>6</td><td>0</td><td>0</td></tr>\n",
              "</tbody>\n",
              "</table>\n"
            ]
          },
          "metadata": {}
        }
      ]
    }
  ]
}